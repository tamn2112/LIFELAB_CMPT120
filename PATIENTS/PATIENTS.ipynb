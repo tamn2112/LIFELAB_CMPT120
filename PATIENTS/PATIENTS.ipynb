{
 "cells": [
  {
   "cell_type": "code",
   "execution_count": null,
   "id": "175e350c-2f38-4a36-ba64-6d367b1fca6d",
   "metadata": {},
   "outputs": [],
   "source": [
    "############################\n",
    "## Data about PATIENTS.csv #\n",
    "############################\n",
    "\n"
   ]
  },
  {
   "cell_type": "code",
   "execution_count": 10,
   "id": "313c938e-29de-49a9-bf46-03100bd83b47",
   "metadata": {},
   "outputs": [],
   "source": [
    "import pandas as pd\n",
    "from datetime import datetime\n",
    "import matplotlib.pyplot as plt"
   ]
  },
  {
   "cell_type": "code",
   "execution_count": 22,
   "id": "b532b17a-fcc8-44ac-b7d3-4cf33ce764d2",
   "metadata": {},
   "outputs": [
    {
     "name": "stdout",
     "output_type": "stream",
     "text": [
      "   ROW_ID  SUBJECT_ID GENDER                  DOB                  DOD  \\\n",
      "0     234         249      F  2075-03-13 00:00:00                  NaN   \n",
      "1     235         250      F  2164-12-27 00:00:00  2188-11-22 00:00:00   \n",
      "2     236         251      M  2090-03-15 00:00:00                  NaN   \n",
      "3     237         252      M  2078-03-06 00:00:00                  NaN   \n",
      "4     238         253      F  2089-11-26 00:00:00                  NaN   \n",
      "\n",
      "              DOD_HOSP DOD_SSN  EXPIRE_FLAG  \n",
      "0                  NaN     NaN            0  \n",
      "1  2188-11-22 00:00:00     NaN            1  \n",
      "2                  NaN     NaN            0  \n",
      "3                  NaN     NaN            0  \n",
      "4                  NaN     NaN            0  \n"
     ]
    }
   ],
   "source": [
    "### Read csv file and display first 5 rows ###\n",
    "file_name = 'PATIENTS.csv'\n",
    "\n",
    "patients_data = pd.read_csv(file_name)\n",
    "\n",
    "print(patients_data.head(5))"
   ]
  },
  {
   "cell_type": "code",
   "execution_count": 23,
   "id": "4485faf2-9dbf-4ead-9318-a3464b82478c",
   "metadata": {},
   "outputs": [
    {
     "name": "stdout",
     "output_type": "stream",
     "text": [
      "       ROW_ID  SUBJECT_ID GENDER                  DOB                  DOD  \\\n",
      "46515   31840       44089      M  2026-05-25 00:00:00                  NaN   \n",
      "46516   31841       44115      F  2124-07-27 00:00:00                  NaN   \n",
      "46517   31842       44123      F  2049-11-26 00:00:00  2135-01-12 00:00:00   \n",
      "46518   31843       44126      F  2076-07-25 00:00:00                  NaN   \n",
      "46519   31844       44128      M  2098-07-25 00:00:00                  NaN   \n",
      "\n",
      "                  DOD_HOSP DOD_SSN  EXPIRE_FLAG  \n",
      "46515                  NaN     NaN            0  \n",
      "46516                  NaN     NaN            0  \n",
      "46517  2135-01-12 00:00:00     NaN            1  \n",
      "46518                  NaN     NaN            0  \n",
      "46519                  NaN     NaN            0  \n"
     ]
    }
   ],
   "source": [
    "### Display the last 5 rows ###\n",
    "print(patients_data.tail(5))"
   ]
  },
  {
   "cell_type": "code",
   "execution_count": 14,
   "id": "14d62cdf-d25b-400d-859c-a110c579d9a8",
   "metadata": {},
   "outputs": [
    {
     "name": "stdout",
     "output_type": "stream",
     "text": [
      "<class 'pandas.core.frame.DataFrame'>\n",
      "RangeIndex: 46520 entries, 0 to 46519\n",
      "Data columns (total 8 columns):\n",
      " #   Column       Non-Null Count  Dtype \n",
      "---  ------       --------------  ----- \n",
      " 0   ROW_ID       46520 non-null  int64 \n",
      " 1   SUBJECT_ID   46520 non-null  int64 \n",
      " 2   GENDER       46520 non-null  object\n",
      " 3   DOB          46520 non-null  object\n",
      " 4   DOD          15759 non-null  object\n",
      " 5   DOD_HOSP     9974 non-null   object\n",
      " 6   DOD_SSN      13378 non-null  object\n",
      " 7   EXPIRE_FLAG  46520 non-null  int64 \n",
      "dtypes: int64(3), object(5)\n",
      "memory usage: 2.8+ MB\n",
      "None\n"
     ]
    }
   ],
   "source": [
    "### General information of patients_data ### \n",
    "print(patients_data.info())"
   ]
  },
  {
   "cell_type": "code",
   "execution_count": 19,
   "id": "de604db5-9d1d-46fc-a834-5b0211adfd71",
   "metadata": {},
   "outputs": [
    {
     "name": "stdout",
     "output_type": "stream",
     "text": [
      "Number of dead people:  15759\n"
     ]
    }
   ],
   "source": [
    "### EXPIRE_FLAG = 1: People who have died ###\n",
    "### shape[0]: row\n",
    "### shape[1]: column\n",
    "\n",
    "dead_count = patients_data[patients_data['EXPIRE_FLAG'] == 1].shape[0]\n",
    "print(\"Number of dead people: \", dead_count)\n"
   ]
  },
  {
   "cell_type": "code",
   "execution_count": 18,
   "id": "1fafd414-3f1d-4f3b-a658-065c2da1a2a4",
   "metadata": {},
   "outputs": [
    {
     "name": "stdout",
     "output_type": "stream",
     "text": [
      "Number of alive people:  30761\n"
     ]
    }
   ],
   "source": [
    "### EXPIRE_FLAG = 0: People who haven't died ###\n",
    "\n",
    "alive_count = patients_data[patients_data['EXPIRE_FLAG'] == 0].shape[0]\n",
    "print(\"Number of alive people: \", alive_count)"
   ]
  },
  {
   "cell_type": "code",
   "execution_count": 20,
   "id": "303cdd1a-3e98-4c9a-9283-de74dae125b2",
   "metadata": {},
   "outputs": [
    {
     "name": "stdout",
     "output_type": "stream",
     "text": [
      "Number of female patients:  20399\n"
     ]
    }
   ],
   "source": [
    "### Number of female patients ###\n",
    "female_patients_num = patients_data[patients_data['GENDER'] == 'F'].shape[0]\n",
    "print(\"Number of female patients: \", female_patients_num)\n"
   ]
  },
  {
   "cell_type": "code",
   "execution_count": 24,
   "id": "2acbf0b0-a26f-406d-8f70-7f708f4070b0",
   "metadata": {},
   "outputs": [
    {
     "name": "stdout",
     "output_type": "stream",
     "text": [
      "Number of male patients:  26121\n"
     ]
    }
   ],
   "source": [
    "### Number of male patients ###\n",
    "male_patients_num = patients_data[patients_data['GENDER'] == 'M'].shape[0]\n",
    "print(\"Number of male patients: \", male_patients_num)"
   ]
  },
  {
   "cell_type": "code",
   "execution_count": 58,
   "id": "50641e86-3a5e-42b3-aed3-712c989244a6",
   "metadata": {},
   "outputs": [],
   "source": [
    "patients_data['DOB'] = pd.to_datetime(patients_data['DOB'])\n",
    "patients_data['DOD_HOSP'] = pd.to_datetime(patients_data['DOD_HOSP'], errors='coerce')\n",
    "patients_data = patients_data.dropna(subset=['DOD_HOSP'])"
   ]
  },
  {
   "cell_type": "code",
   "execution_count": 55,
   "id": "69d707df-ede8-4d29-83e8-447ca8bb867a",
   "metadata": {},
   "outputs": [
    {
     "name": "stdout",
     "output_type": "stream",
     "text": [
      "0       2075-03-13\n",
      "1       2164-12-27\n",
      "2       2090-03-15\n",
      "3       2078-03-06\n",
      "4       2089-11-26\n",
      "           ...    \n",
      "46515   2026-05-25\n",
      "46516   2124-07-27\n",
      "46517   2049-11-26\n",
      "46518   2076-07-25\n",
      "46519   2098-07-25\n",
      "Name: DOB, Length: 46520, dtype: datetime64[ns]\n"
     ]
    }
   ],
   "source": [
    "print(patients_data['DOB'])"
   ]
  },
  {
   "cell_type": "code",
   "execution_count": 56,
   "id": "0ec94483-853c-4805-a16a-5935fb9d4340",
   "metadata": {},
   "outputs": [
    {
     "name": "stdout",
     "output_type": "stream",
     "text": [
      "0              NaT\n",
      "1       2188-11-22\n",
      "2              NaT\n",
      "3              NaT\n",
      "4              NaT\n",
      "           ...    \n",
      "46515          NaT\n",
      "46516          NaT\n",
      "46517   2135-01-12\n",
      "46518          NaT\n",
      "46519          NaT\n",
      "Name: DOD_HOSP, Length: 46520, dtype: datetime64[ns]\n"
     ]
    }
   ],
   "source": [
    "print(patients_data['DOD_HOSP'])"
   ]
  },
  {
   "cell_type": "code",
   "execution_count": 68,
   "id": "fac0d931-661f-4972-8a27-5764d0893409",
   "metadata": {},
   "outputs": [
    {
     "name": "stdout",
     "output_type": "stream",
     "text": [
      "1         24\n",
      "7         90\n",
      "10        77\n",
      "12        64\n",
      "17        66\n",
      "        ... \n",
      "46496     88\n",
      "46497    300\n",
      "46505     76\n",
      "46513     57\n",
      "46517     86\n",
      "Name: AGE_AT_DEATH, Length: 9974, dtype: int32\n"
     ]
    }
   ],
   "source": [
    "### Create a new column: AGE_AT_DEATH ###\n",
    "patients_data['AGE_AT_DEATH'] = (patients_data['DOD_HOSP'].dt.year - patients_data['DOB'].dt.year)\n",
    "print(patients_data['AGE_AT_DEATH'])"
   ]
  },
  {
   "cell_type": "code",
   "execution_count": 70,
   "id": "73a68c25-42e8-48ef-b78b-b220967e61ae",
   "metadata": {},
   "outputs": [
    {
     "name": "stdout",
     "output_type": "stream",
     "text": [
      "Minimum age death:  0\n",
      "Maximum age death:  311\n"
     ]
    }
   ],
   "source": [
    "print(\"Minimum age death: \", patients_data['AGE_AT_DEATH'].min())\n",
    "print(\"Maximum age death: \", patients_data['AGE_AT_DEATH'].max())\n"
   ]
  },
  {
   "cell_type": "code",
   "execution_count": 82,
   "id": "dc6ae2dd-7302-4ee9-995b-43159bb95686",
   "metadata": {},
   "outputs": [
    {
     "name": "stdout",
     "output_type": "stream",
     "text": [
      "AGE_AT_DEATH\n",
      "0      62\n",
      "1       2\n",
      "15      1\n",
      "16      1\n",
      "17      6\n",
      "       ..\n",
      "307    12\n",
      "308     6\n",
      "309     9\n",
      "310     2\n",
      "311     2\n",
      "Name: count, Length: 96, dtype: int64\n"
     ]
    }
   ],
   "source": [
    "### Frequency of age ###\n",
    "age_frequency = patients_data['AGE_AT_DEATH'].value_counts().sort_index()\n",
    "print(age_frequency)\n",
    "\n",
    "### Left column: Age \n",
    "### Right column: Frequency"
   ]
  },
  {
   "cell_type": "code",
   "execution_count": 83,
   "id": "d4a76b83-3ca2-477b-b45e-c02cafdbb2b2",
   "metadata": {},
   "outputs": [
    {
     "name": "stdout",
     "output_type": "stream",
     "text": [
      "    ROW_ID  SUBJECT_ID GENDER        DOB        DOD   DOD_HOSP  \\\n",
      "1      235         250      F 2164-12-27 2164-12-27 2188-11-22   \n",
      "7      241         257      F 2031-04-03 2031-04-03 2121-07-08   \n",
      "10     244         261      M 2025-08-04 2025-08-04 2102-06-29   \n",
      "12     246         263      M 2104-06-18 2104-06-18 2168-06-13   \n",
      "17     251         268      F 2132-02-21 2132-02-21 2198-02-18   \n",
      "\n",
      "                DOD_SSN  EXPIRE_FLAG  AGE_AT_DEATH  DEAD_FREQUENCY  \n",
      "1                   NaN            1            24              11  \n",
      "7   2121-07-08 00:00:00            1            90              38  \n",
      "10  2102-06-29 00:00:00            1            77             282  \n",
      "12                  NaN            1            64             184  \n",
      "17                  NaN            1            66             209  \n"
     ]
    }
   ],
   "source": [
    "patients_data['DEAD_FREQUENCY'] = patients_data['AGE_AT_DEATH'].map(age_frequency)\n",
    "print(patients_data.head(5))\n",
    "\n",
    "### 11 people died at age 24, 38 people died at age 90, etc ###\n"
   ]
  },
  {
   "cell_type": "code",
   "execution_count": 67,
   "id": "77d68f54-9b07-4922-98b1-a35272c5b7e5",
   "metadata": {},
   "outputs": [],
   "source": [
    "### Plot the AGE_AT_DEATH and DEAD_FREQUENCY using Histogram ###"
   ]
  },
  {
   "cell_type": "code",
   "execution_count": 88,
   "id": "604a956d-df4e-43c6-aaa4-6f42041ae151",
   "metadata": {},
   "outputs": [
    {
     "data": {
      "image/png": "[encoded data removed]",
      "text/plain": [
       "<Figure size 1500x600 with 1 Axes>"
      ]
     },
     "metadata": {},
     "output_type": "display_data"
    }
   ],
   "source": [
    "import matplotlib.pyplot as plt\n",
    "\n",
    "plt.figure(figsize=(15, 6))\n",
    "plt.scatter(patients_data['AGE_AT_DEATH'], patients_data['DEAD_FREQUENCY'], color='darkblue', marker='.')\n",
    "plt.title('Age at Death vs. Frequency')\n",
    "plt.xlabel('Age at Death')\n",
    "plt.ylabel('Frequency')\n",
    "plt.grid(axis='y', linestyle='--', alpha=0.7)\n",
    "plt.ylim(0, 100)\n",
    "plt.yticks(range(0, 101, 10))\n",
    "plt.show()\n"
   ]
  }
 ],
 "metadata": {
  "kernelspec": {
   "display_name": "Python 3 (ipykernel)",
   "language": "python",
   "name": "python3"
  },
  "language_info": {
   "codemirror_mode": {
    "name": "ipython",
    "version": 3
   },
   "file_extension": ".py",
   "mimetype": "text/x-python",
   "name": "python",
   "nbconvert_exporter": "python",
   "pygments_lexer": "ipython3",
   "version": "3.10.6"
  }
 },
 "nbformat": 4,
 "nbformat_minor": 5
}
